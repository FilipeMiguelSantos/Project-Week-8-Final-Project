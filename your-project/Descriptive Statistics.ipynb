{
 "cells": [
  {
   "cell_type": "markdown",
   "metadata": {},
   "source": [
    "# Descriptive Statistics"
   ]
  },
  {
   "cell_type": "markdown",
   "metadata": {},
   "source": [
    "## Data Cleaning"
   ]
  },
  {
   "cell_type": "code",
   "execution_count": 40,
   "metadata": {},
   "outputs": [],
   "source": [
    "import pandas as pd\n",
    "import numpy as np\n",
    "\n",
    "import seaborn as sns\n",
    "from scipy import stats\n",
    "from statsmodels.stats.proportion import proportions_ztest"
   ]
  },
  {
   "cell_type": "code",
   "execution_count": 2,
   "metadata": {},
   "outputs": [],
   "source": [
    "default = pd.read_csv('UCI_Credit_Card.csv')"
   ]
  },
  {
   "cell_type": "code",
   "execution_count": 3,
   "metadata": {},
   "outputs": [],
   "source": [
    "# ID: ID of each client\n",
    "# LIMIT_BAL: Amount of given credit in NT dollars (includes individual and family/supplementary credit\n",
    "# SEX: Gender (1=male, 2=female) -> replace by 0 and 1 - 'Female = 0'\n",
    "# EDUCATION: (1=graduate school, 2=university, 3=high school, 4=others, 5=unknown)\n",
    "# MARRIAGE: Marital status (1=married, 2=single, 3=others) -> oneHotEnconding\n",
    "# AGE: Age in years\n",
    "# PAY_0: Repayment status in September, 2005 (-1=pay duly, 1=payment delay for one month, 2=payment delay for two months, … 8=payment delay for eight months, 9=payment delay for nine months and above)\n",
    "# PAY_2: Repayment status in August, 2005 (scale same as above)\n",
    "# PAY_3: Repayment status in July, 2005 (scale same as above)\n",
    "# PAY_4: Repayment status in June, 2005 (scale same as above)\n",
    "# PAY_5: Repayment status in May, 2005 (scale same as above)\n",
    "# PAY_6: Repayment status in April, 2005 (scale same as above)\n",
    "# BILL_AMT1: Amount of bill statement in September, 2005 (NT dollar)\n",
    "# BILL_AMT2: Amount of bill statement in August, 2005 (NT dollar)\n",
    "# BILL_AMT3: Amount of bill statement in July, 2005 (NT dollar)\n",
    "# BILL_AMT4: Amount of bill statement in June, 2005 (NT dollar)\n",
    "# BILL_AMT5: Amount of bill statement in May, 2005 (NT dollar)\n",
    "# BILL_AMT6: Amount of bill statement in April, 2005 (NT dollar)\n",
    "# PAY_AMT1: Amount of previous payment in September, 2005 (NT dollar)\n",
    "# PAY_AMT2: Amount of previous payment in August, 2005 (NT dollar)\n",
    "# PAY_AMT3: Amount of previous payment in July, 2005 (NT dollar)\n",
    "# PAY_AMT4: Amount of previous payment in June, 2005 (NT dollar)\n",
    "# PAY_AMT5: Amount of previous payment in May, 2005 (NT dollar)\n",
    "# PAY_AMT6: Amount of previous payment in April, 2005 (NT dollar)\n",
    "# default.payment.next.month: Default payment (1=yes, 0=no)"
   ]
  },
  {
   "cell_type": "code",
   "execution_count": 4,
   "metadata": {
    "scrolled": true
   },
   "outputs": [
    {
     "data": {
      "text/html": [
       "<div>\n",
       "<style scoped>\n",
       "    .dataframe tbody tr th:only-of-type {\n",
       "        vertical-align: middle;\n",
       "    }\n",
       "\n",
       "    .dataframe tbody tr th {\n",
       "        vertical-align: top;\n",
       "    }\n",
       "\n",
       "    .dataframe thead th {\n",
       "        text-align: right;\n",
       "    }\n",
       "</style>\n",
       "<table border=\"1\" class=\"dataframe\">\n",
       "  <thead>\n",
       "    <tr style=\"text-align: right;\">\n",
       "      <th></th>\n",
       "      <th>ID</th>\n",
       "      <th>LIMIT_BAL</th>\n",
       "      <th>SEX</th>\n",
       "      <th>EDUCATION</th>\n",
       "      <th>MARRIAGE</th>\n",
       "      <th>AGE</th>\n",
       "      <th>PAY_0</th>\n",
       "      <th>PAY_2</th>\n",
       "      <th>PAY_3</th>\n",
       "      <th>PAY_4</th>\n",
       "      <th>...</th>\n",
       "      <th>BILL_AMT4</th>\n",
       "      <th>BILL_AMT5</th>\n",
       "      <th>BILL_AMT6</th>\n",
       "      <th>PAY_AMT1</th>\n",
       "      <th>PAY_AMT2</th>\n",
       "      <th>PAY_AMT3</th>\n",
       "      <th>PAY_AMT4</th>\n",
       "      <th>PAY_AMT5</th>\n",
       "      <th>PAY_AMT6</th>\n",
       "      <th>default.payment.next.month</th>\n",
       "    </tr>\n",
       "  </thead>\n",
       "  <tbody>\n",
       "    <tr>\n",
       "      <th>0</th>\n",
       "      <td>1</td>\n",
       "      <td>20000.0</td>\n",
       "      <td>2</td>\n",
       "      <td>2</td>\n",
       "      <td>1</td>\n",
       "      <td>24</td>\n",
       "      <td>2</td>\n",
       "      <td>2</td>\n",
       "      <td>-1</td>\n",
       "      <td>-1</td>\n",
       "      <td>...</td>\n",
       "      <td>0.0</td>\n",
       "      <td>0.0</td>\n",
       "      <td>0.0</td>\n",
       "      <td>0.0</td>\n",
       "      <td>689.0</td>\n",
       "      <td>0.0</td>\n",
       "      <td>0.0</td>\n",
       "      <td>0.0</td>\n",
       "      <td>0.0</td>\n",
       "      <td>1</td>\n",
       "    </tr>\n",
       "    <tr>\n",
       "      <th>1</th>\n",
       "      <td>2</td>\n",
       "      <td>120000.0</td>\n",
       "      <td>2</td>\n",
       "      <td>2</td>\n",
       "      <td>2</td>\n",
       "      <td>26</td>\n",
       "      <td>-1</td>\n",
       "      <td>2</td>\n",
       "      <td>0</td>\n",
       "      <td>0</td>\n",
       "      <td>...</td>\n",
       "      <td>3272.0</td>\n",
       "      <td>3455.0</td>\n",
       "      <td>3261.0</td>\n",
       "      <td>0.0</td>\n",
       "      <td>1000.0</td>\n",
       "      <td>1000.0</td>\n",
       "      <td>1000.0</td>\n",
       "      <td>0.0</td>\n",
       "      <td>2000.0</td>\n",
       "      <td>1</td>\n",
       "    </tr>\n",
       "    <tr>\n",
       "      <th>2</th>\n",
       "      <td>3</td>\n",
       "      <td>90000.0</td>\n",
       "      <td>2</td>\n",
       "      <td>2</td>\n",
       "      <td>2</td>\n",
       "      <td>34</td>\n",
       "      <td>0</td>\n",
       "      <td>0</td>\n",
       "      <td>0</td>\n",
       "      <td>0</td>\n",
       "      <td>...</td>\n",
       "      <td>14331.0</td>\n",
       "      <td>14948.0</td>\n",
       "      <td>15549.0</td>\n",
       "      <td>1518.0</td>\n",
       "      <td>1500.0</td>\n",
       "      <td>1000.0</td>\n",
       "      <td>1000.0</td>\n",
       "      <td>1000.0</td>\n",
       "      <td>5000.0</td>\n",
       "      <td>0</td>\n",
       "    </tr>\n",
       "    <tr>\n",
       "      <th>3</th>\n",
       "      <td>4</td>\n",
       "      <td>50000.0</td>\n",
       "      <td>2</td>\n",
       "      <td>2</td>\n",
       "      <td>1</td>\n",
       "      <td>37</td>\n",
       "      <td>0</td>\n",
       "      <td>0</td>\n",
       "      <td>0</td>\n",
       "      <td>0</td>\n",
       "      <td>...</td>\n",
       "      <td>28314.0</td>\n",
       "      <td>28959.0</td>\n",
       "      <td>29547.0</td>\n",
       "      <td>2000.0</td>\n",
       "      <td>2019.0</td>\n",
       "      <td>1200.0</td>\n",
       "      <td>1100.0</td>\n",
       "      <td>1069.0</td>\n",
       "      <td>1000.0</td>\n",
       "      <td>0</td>\n",
       "    </tr>\n",
       "    <tr>\n",
       "      <th>4</th>\n",
       "      <td>5</td>\n",
       "      <td>50000.0</td>\n",
       "      <td>1</td>\n",
       "      <td>2</td>\n",
       "      <td>1</td>\n",
       "      <td>57</td>\n",
       "      <td>-1</td>\n",
       "      <td>0</td>\n",
       "      <td>-1</td>\n",
       "      <td>0</td>\n",
       "      <td>...</td>\n",
       "      <td>20940.0</td>\n",
       "      <td>19146.0</td>\n",
       "      <td>19131.0</td>\n",
       "      <td>2000.0</td>\n",
       "      <td>36681.0</td>\n",
       "      <td>10000.0</td>\n",
       "      <td>9000.0</td>\n",
       "      <td>689.0</td>\n",
       "      <td>679.0</td>\n",
       "      <td>0</td>\n",
       "    </tr>\n",
       "  </tbody>\n",
       "</table>\n",
       "<p>5 rows × 25 columns</p>\n",
       "</div>"
      ],
      "text/plain": [
       "   ID  LIMIT_BAL  SEX  EDUCATION  MARRIAGE  AGE  PAY_0  PAY_2  PAY_3  PAY_4  \\\n",
       "0   1    20000.0    2          2         1   24      2      2     -1     -1   \n",
       "1   2   120000.0    2          2         2   26     -1      2      0      0   \n",
       "2   3    90000.0    2          2         2   34      0      0      0      0   \n",
       "3   4    50000.0    2          2         1   37      0      0      0      0   \n",
       "4   5    50000.0    1          2         1   57     -1      0     -1      0   \n",
       "\n",
       "   ...  BILL_AMT4  BILL_AMT5  BILL_AMT6  PAY_AMT1  PAY_AMT2  PAY_AMT3  \\\n",
       "0  ...        0.0        0.0        0.0       0.0     689.0       0.0   \n",
       "1  ...     3272.0     3455.0     3261.0       0.0    1000.0    1000.0   \n",
       "2  ...    14331.0    14948.0    15549.0    1518.0    1500.0    1000.0   \n",
       "3  ...    28314.0    28959.0    29547.0    2000.0    2019.0    1200.0   \n",
       "4  ...    20940.0    19146.0    19131.0    2000.0   36681.0   10000.0   \n",
       "\n",
       "   PAY_AMT4  PAY_AMT5  PAY_AMT6  default.payment.next.month  \n",
       "0       0.0       0.0       0.0                           1  \n",
       "1    1000.0       0.0    2000.0                           1  \n",
       "2    1000.0    1000.0    5000.0                           0  \n",
       "3    1100.0    1069.0    1000.0                           0  \n",
       "4    9000.0     689.0     679.0                           0  \n",
       "\n",
       "[5 rows x 25 columns]"
      ]
     },
     "execution_count": 4,
     "metadata": {},
     "output_type": "execute_result"
    }
   ],
   "source": [
    "default.head()"
   ]
  },
  {
   "cell_type": "code",
   "execution_count": 5,
   "metadata": {},
   "outputs": [
    {
     "data": {
      "text/plain": [
       "array([-1,  0, -2,  2,  3,  4,  5,  7,  6,  1,  8], dtype=int64)"
      ]
     },
     "execution_count": 5,
     "metadata": {},
     "output_type": "execute_result"
    }
   ],
   "source": [
    "default['PAY_4'].unique()"
   ]
  },
  {
   "cell_type": "code",
   "execution_count": 6,
   "metadata": {},
   "outputs": [],
   "source": [
    "default.rename(columns={'PAY_0':'PAY_1'}, inplace=True)"
   ]
  },
  {
   "cell_type": "code",
   "execution_count": 7,
   "metadata": {},
   "outputs": [],
   "source": [
    "#pay duly converted to 0\n",
    "default['PAY_1'] = np.where((default.PAY_1 == -1)|(default.PAY_1 == -2), 0, default.PAY_1)\n",
    "default['PAY_2'] = np.where((default.PAY_2 == -1)|(default.PAY_2 == -2), 0, default.PAY_2)\n",
    "default['PAY_3'] = np.where((default.PAY_3 == -1)|(default.PAY_3 == -2), 0, default.PAY_3)\n",
    "default['PAY_4'] = np.where((default.PAY_4 == -1)|(default.PAY_4 == -2), 0, default.PAY_4)\n",
    "default['PAY_5'] = np.where((default.PAY_5 == -1)|(default.PAY_5 == -2), 0, default.PAY_5)\n",
    "default['PAY_6'] = np.where((default.PAY_6 == -1)|(default.PAY_6 == -2), 0, default.PAY_6)"
   ]
  },
  {
   "cell_type": "code",
   "execution_count": 8,
   "metadata": {},
   "outputs": [
    {
     "data": {
      "text/plain": [
       "array([2, 0, 1, 3, 4, 5, 6, 8, 7], dtype=int64)"
      ]
     },
     "execution_count": 8,
     "metadata": {},
     "output_type": "execute_result"
    }
   ],
   "source": [
    "#Checking unique values\n",
    "pay_values = default[['PAY_1','PAY_2','PAY_3','PAY_4','PAY_5','PAY_6']].values.ravel()\n",
    "pd.unique(pay_values)"
   ]
  },
  {
   "cell_type": "code",
   "execution_count": 9,
   "metadata": {},
   "outputs": [
    {
     "name": "stdout",
     "output_type": "stream",
     "text": [
      "<class 'pandas.core.frame.DataFrame'>\n",
      "RangeIndex: 30000 entries, 0 to 29999\n",
      "Data columns (total 25 columns):\n",
      " #   Column                      Non-Null Count  Dtype  \n",
      "---  ------                      --------------  -----  \n",
      " 0   ID                          30000 non-null  int64  \n",
      " 1   LIMIT_BAL                   30000 non-null  float64\n",
      " 2   SEX                         30000 non-null  int64  \n",
      " 3   EDUCATION                   30000 non-null  int64  \n",
      " 4   MARRIAGE                    30000 non-null  int64  \n",
      " 5   AGE                         30000 non-null  int64  \n",
      " 6   PAY_1                       30000 non-null  int64  \n",
      " 7   PAY_2                       30000 non-null  int64  \n",
      " 8   PAY_3                       30000 non-null  int64  \n",
      " 9   PAY_4                       30000 non-null  int64  \n",
      " 10  PAY_5                       30000 non-null  int64  \n",
      " 11  PAY_6                       30000 non-null  int64  \n",
      " 12  BILL_AMT1                   30000 non-null  float64\n",
      " 13  BILL_AMT2                   30000 non-null  float64\n",
      " 14  BILL_AMT3                   30000 non-null  float64\n",
      " 15  BILL_AMT4                   30000 non-null  float64\n",
      " 16  BILL_AMT5                   30000 non-null  float64\n",
      " 17  BILL_AMT6                   30000 non-null  float64\n",
      " 18  PAY_AMT1                    30000 non-null  float64\n",
      " 19  PAY_AMT2                    30000 non-null  float64\n",
      " 20  PAY_AMT3                    30000 non-null  float64\n",
      " 21  PAY_AMT4                    30000 non-null  float64\n",
      " 22  PAY_AMT5                    30000 non-null  float64\n",
      " 23  PAY_AMT6                    30000 non-null  float64\n",
      " 24  default.payment.next.month  30000 non-null  int64  \n",
      "dtypes: float64(13), int64(12)\n",
      "memory usage: 5.7 MB\n"
     ]
    }
   ],
   "source": [
    "default.info()"
   ]
  },
  {
   "cell_type": "code",
   "execution_count": 10,
   "metadata": {},
   "outputs": [
    {
     "data": {
      "text/plain": [
       "array([2, 1, 3, 5, 4, 6, 0], dtype=int64)"
      ]
     },
     "execution_count": 10,
     "metadata": {},
     "output_type": "execute_result"
    }
   ],
   "source": [
    "default['EDUCATION'].unique()"
   ]
  },
  {
   "cell_type": "code",
   "execution_count": 11,
   "metadata": {},
   "outputs": [],
   "source": [
    "default['EDUCATION'] = np.where((default.EDUCATION == 0)|(default.EDUCATION == 6), 5, default.EDUCATION)"
   ]
  },
  {
   "cell_type": "code",
   "execution_count": 12,
   "metadata": {},
   "outputs": [],
   "source": [
    "default['MARRIAGE'] = np.where((default.MARRIAGE == 0),3, default.MARRIAGE)"
   ]
  },
  {
   "cell_type": "code",
   "execution_count": 13,
   "metadata": {},
   "outputs": [],
   "source": [
    "default['MARRIAGE'] = np.where((default.MARRIAGE == 1),'married', default.MARRIAGE)\n",
    "default['MARRIAGE'] = np.where((default.MARRIAGE == '2'),'single', default.MARRIAGE)\n",
    "default['MARRIAGE'] = np.where((default.MARRIAGE == '3'),'other', default.MARRIAGE)"
   ]
  },
  {
   "cell_type": "code",
   "execution_count": 14,
   "metadata": {},
   "outputs": [
    {
     "data": {
      "text/plain": [
       "single     15964\n",
       "married    13659\n",
       "other        377\n",
       "Name: MARRIAGE, dtype: int64"
      ]
     },
     "execution_count": 14,
     "metadata": {},
     "output_type": "execute_result"
    }
   ],
   "source": [
    "default[\"MARRIAGE\"].value_counts()"
   ]
  },
  {
   "cell_type": "code",
   "execution_count": 15,
   "metadata": {},
   "outputs": [
    {
     "data": {
      "text/plain": [
       "array([2, 1], dtype=int64)"
      ]
     },
     "execution_count": 15,
     "metadata": {},
     "output_type": "execute_result"
    }
   ],
   "source": [
    "default['SEX'].unique()"
   ]
  },
  {
   "cell_type": "code",
   "execution_count": 16,
   "metadata": {},
   "outputs": [],
   "source": [
    "default['SEX'] = np.where((default.SEX == 2),0, default.SEX)"
   ]
  },
  {
   "cell_type": "code",
   "execution_count": 17,
   "metadata": {},
   "outputs": [
    {
     "data": {
      "text/plain": [
       "79"
      ]
     },
     "execution_count": 17,
     "metadata": {},
     "output_type": "execute_result"
    }
   ],
   "source": [
    "default['AGE'].max()"
   ]
  },
  {
   "cell_type": "code",
   "execution_count": 18,
   "metadata": {},
   "outputs": [
    {
     "data": {
      "text/plain": [
       "21"
      ]
     },
     "execution_count": 18,
     "metadata": {},
     "output_type": "execute_result"
    }
   ],
   "source": [
    "default['AGE'].min()"
   ]
  },
  {
   "cell_type": "code",
   "execution_count": 19,
   "metadata": {},
   "outputs": [],
   "source": [
    "def range_age_column(row):\n",
    "    if row['AGE'] < 31:\n",
    "        return '20-30'\n",
    "    elif 31 <= row['AGE'] < 41:\n",
    "        return '31-40'\n",
    "    elif 41 <= row['AGE'] < 51:\n",
    "        return '41-50'\n",
    "    elif 51 <= row['AGE'] < 61:\n",
    "        return '51-60'\n",
    "    elif 60 <= row['AGE']:\n",
    "        return '60+'"
   ]
  },
  {
   "cell_type": "code",
   "execution_count": 20,
   "metadata": {},
   "outputs": [],
   "source": [
    "default['Range_age'] = default.apply(range_age_column, axis=1)"
   ]
  },
  {
   "cell_type": "code",
   "execution_count": 21,
   "metadata": {},
   "outputs": [
    {
     "data": {
      "text/plain": [
       "20-30    11013\n",
       "31-40    10713\n",
       "41-50     6005\n",
       "51-60     1997\n",
       "60+        272\n",
       "Name: Range_age, dtype: int64"
      ]
     },
     "execution_count": 21,
     "metadata": {},
     "output_type": "execute_result"
    }
   ],
   "source": [
    "default['Range_age'].value_counts()"
   ]
  },
  {
   "cell_type": "code",
   "execution_count": 22,
   "metadata": {},
   "outputs": [],
   "source": [
    "def ordinal_age (row):\n",
    "    if row in range(20,31):\n",
    "        return 1\n",
    "    elif row in range(31,41):\n",
    "        return 2\n",
    "    elif row in range(41,51):\n",
    "        return 3\n",
    "    elif row in range(51,61):\n",
    "        return 4\n",
    "    else:\n",
    "        return 5"
   ]
  },
  {
   "cell_type": "code",
   "execution_count": 23,
   "metadata": {},
   "outputs": [],
   "source": [
    "default['ORD_AGE'] = default['AGE'].apply(ordinal_age)"
   ]
  },
  {
   "cell_type": "code",
   "execution_count": 24,
   "metadata": {
    "scrolled": true
   },
   "outputs": [
    {
     "data": {
      "text/plain": [
       "array([1, 2, 4, 3, 5], dtype=int64)"
      ]
     },
     "execution_count": 24,
     "metadata": {},
     "output_type": "execute_result"
    }
   ],
   "source": [
    "default['ORD_AGE'].unique()"
   ]
  },
  {
   "cell_type": "code",
   "execution_count": 25,
   "metadata": {},
   "outputs": [
    {
     "data": {
      "text/plain": [
       "Index(['ID', 'LIMIT_BAL', 'SEX', 'EDUCATION', 'MARRIAGE', 'AGE', 'PAY_1',\n",
       "       'PAY_2', 'PAY_3', 'PAY_4', 'PAY_5', 'PAY_6', 'BILL_AMT1', 'BILL_AMT2',\n",
       "       'BILL_AMT3', 'BILL_AMT4', 'BILL_AMT5', 'BILL_AMT6', 'PAY_AMT1',\n",
       "       'PAY_AMT2', 'PAY_AMT3', 'PAY_AMT4', 'PAY_AMT5', 'PAY_AMT6',\n",
       "       'default.payment.next.month', 'Range_age', 'ORD_AGE'],\n",
       "      dtype='object')"
      ]
     },
     "execution_count": 25,
     "metadata": {},
     "output_type": "execute_result"
    }
   ],
   "source": [
    "default.columns"
   ]
  },
  {
   "cell_type": "code",
   "execution_count": 26,
   "metadata": {},
   "outputs": [],
   "source": [
    "default.drop(columns='ID', inplace=True)"
   ]
  },
  {
   "cell_type": "code",
   "execution_count": 27,
   "metadata": {},
   "outputs": [],
   "source": [
    "#default.to_csv('data_model.csv', index=False)"
   ]
  },
  {
   "cell_type": "code",
   "execution_count": 28,
   "metadata": {},
   "outputs": [
    {
     "data": {
      "text/plain": [
       "0.39626666666666666"
      ]
     },
     "execution_count": 28,
     "metadata": {},
     "output_type": "execute_result"
    }
   ],
   "source": [
    "# Percentage of men\n",
    "prc_men = len(default[default['SEX']==1])/len(default)\n",
    "prc_men"
   ]
  },
  {
   "cell_type": "code",
   "execution_count": 29,
   "metadata": {},
   "outputs": [
    {
     "name": "stdout",
     "output_type": "stream",
     "text": [
      "nr defaults = 6636\n",
      "% of defaults = 0.2212\n"
     ]
    }
   ],
   "source": [
    "# being in default\n",
    "nr_defaults = len(default[default['default.payment.next.month']==1])\n",
    "print('nr defaults =', nr_defaults)\n",
    "print('% of defaults =', nr_defaults/len(default))"
   ]
  },
  {
   "cell_type": "code",
   "execution_count": 30,
   "metadata": {},
   "outputs": [
    {
     "data": {
      "text/plain": [
       "2    14030\n",
       "1    10585\n",
       "3     4917\n",
       "5      345\n",
       "4      123\n",
       "Name: EDUCATION, dtype: int64"
      ]
     },
     "execution_count": 30,
     "metadata": {},
     "output_type": "execute_result"
    }
   ],
   "source": [
    "default['EDUCATION'].value_counts()"
   ]
  },
  {
   "cell_type": "code",
   "execution_count": 31,
   "metadata": {},
   "outputs": [
    {
     "data": {
      "text/plain": [
       "single     15964\n",
       "married    13659\n",
       "other        377\n",
       "Name: MARRIAGE, dtype: int64"
      ]
     },
     "execution_count": 31,
     "metadata": {},
     "output_type": "execute_result"
    }
   ],
   "source": [
    "default['MARRIAGE'].value_counts()"
   ]
  },
  {
   "cell_type": "code",
   "execution_count": 32,
   "metadata": {},
   "outputs": [
    {
     "data": {
      "text/plain": [
       "Range_age  default.payment.next.month\n",
       "20-30      0                             8542\n",
       "           1                             2471\n",
       "31-40      0                             8524\n",
       "           1                             2189\n",
       "41-50      0                             4606\n",
       "           1                             1399\n",
       "51-60      0                             1493\n",
       "           1                              504\n",
       "60+        0                              199\n",
       "           1                               73\n",
       "Name: default.payment.next.month, dtype: int64"
      ]
     },
     "execution_count": 32,
     "metadata": {},
     "output_type": "execute_result"
    }
   ],
   "source": [
    "range_ages = default.groupby(\"Range_age\")[\"default.payment.next.month\"].value_counts()\n",
    "range_ages"
   ]
  },
  {
   "cell_type": "code",
   "execution_count": 33,
   "metadata": {},
   "outputs": [],
   "source": [
    "range_age = list(default['Range_age'].unique())\n"
   ]
  },
  {
   "cell_type": "code",
   "execution_count": 42,
   "metadata": {
    "scrolled": true
   },
   "outputs": [
    {
     "data": {
      "text/plain": [
       "array([  20000.,  120000.,   90000.,   50000.,  500000.,  100000.,\n",
       "        140000.,  200000.,  260000.,  630000.,   70000.,  250000.,\n",
       "        320000.,  360000.,  180000.,  130000.,  450000.,   60000.,\n",
       "        230000.,  160000.,  280000.,   10000.,   40000.,  210000.,\n",
       "        150000.,  380000.,  310000.,  400000.,   80000.,  290000.,\n",
       "        340000.,  300000.,   30000.,  240000.,  470000.,  480000.,\n",
       "        350000.,  330000.,  110000.,  420000.,  170000.,  370000.,\n",
       "        270000.,  220000.,  190000.,  510000.,  460000.,  440000.,\n",
       "        410000.,  490000.,  390000.,  580000.,  600000.,  620000.,\n",
       "        610000.,  700000.,  670000.,  680000.,  430000.,  550000.,\n",
       "        540000., 1000000.,  530000.,  710000.,  560000.,  520000.,\n",
       "        750000.,  640000.,   16000.,  570000.,  590000.,  660000.,\n",
       "        720000.,  327680.,  740000.,  800000.,  760000.,  690000.,\n",
       "        650000.,  780000.,  730000.])"
      ]
     },
     "execution_count": 42,
     "metadata": {},
     "output_type": "execute_result"
    }
   ],
   "source": [
    "default['LIMIT_BAL'].unique()"
   ]
  },
  {
   "cell_type": "code",
   "execution_count": 73,
   "metadata": {},
   "outputs": [
    {
     "data": {
      "text/plain": [
       "140000.0"
      ]
     },
     "execution_count": 73,
     "metadata": {},
     "output_type": "execute_result"
    }
   ],
   "source": [
    "default['LIMIT_BAL'].median()"
   ]
  },
  {
   "cell_type": "code",
   "execution_count": 74,
   "metadata": {},
   "outputs": [
    {
     "data": {
      "text/plain": [
       "167484.32266666667"
      ]
     },
     "execution_count": 74,
     "metadata": {},
     "output_type": "execute_result"
    }
   ],
   "source": [
    "default['LIMIT_BAL'].mean()"
   ]
  },
  {
   "cell_type": "code",
   "execution_count": 34,
   "metadata": {},
   "outputs": [],
   "source": [
    "# SEX: Gender (1=male, 0=female)\n",
    "# EDUCATION: (1=graduate school, 2=university, 3=high school, 4=others, 5=unknown)\n",
    "# MARRIAGE: Marital status (1=married, 2=single, 3=others)"
   ]
  },
  {
   "cell_type": "code",
   "execution_count": 36,
   "metadata": {},
   "outputs": [
    {
     "name": "stdout",
     "output_type": "stream",
     "text": [
      "0.21     code= 20-30 1 married 0\n",
      "0.18     code= 31-40 1 married 0\n",
      "0.21     code= 51-60 1 married 0\n",
      "0.17     code= 41-50 1 married 0\n",
      "0.32     code= 60+ 1 married 0\n",
      "0.27     code= 20-30 2 married 0\n",
      "0.21     code= 31-40 2 married 0\n",
      "0.27     code= 51-60 2 married 0\n",
      "0.23     code= 41-50 2 married 0\n",
      "0.28     code= 60+ 2 married 0\n",
      "0.27     code= 20-30 3 married 0\n",
      "0.22     code= 31-40 3 married 0\n",
      "0.24     code= 51-60 3 married 0\n",
      "0.27     code= 41-50 3 married 0\n",
      "0.22     code= 60+ 3 married 0\n",
      "0.0     code= 20-30 4 married 0\n",
      "0.0     code= 31-40 4 married 0\n",
      "0.0     code= 51-60 4 married 0\n",
      "0.1     code= 41-50 4 married 0\n",
      "0.04     code= 20-30 5 married 0\n",
      "0.06     code= 31-40 5 married 0\n",
      "0.0     code= 51-60 5 married 0\n",
      "0.06     code= 41-50 5 married 0\n",
      "0.0     code= 60+ 5 married 0\n",
      "0.18     code= 20-30 1 single 0\n",
      "0.17     code= 31-40 1 single 0\n",
      "0.19     code= 51-60 1 single 0\n",
      "0.2     code= 41-50 1 single 0\n",
      "0.4     code= 60+ 1 single 0\n",
      "0.23     code= 20-30 2 single 0\n",
      "0.17     code= 31-40 2 single 0\n",
      "0.19     code= 51-60 2 single 0\n",
      "0.2     code= 41-50 2 single 0\n",
      "1.0     code= 60+ 2 single 0\n",
      "0.23     code= 20-30 3 single 0\n",
      "0.17     code= 31-40 3 single 0\n",
      "0.19     code= 51-60 3 single 0\n",
      "0.26     code= 41-50 3 single 0\n",
      "0.44     code= 60+ 3 single 0\n",
      "0.07     code= 20-30 4 single 0\n",
      "0.0     code= 31-40 4 single 0\n",
      "0.0     code= 41-50 4 single 0\n",
      "0.09     code= 20-30 5 single 0\n",
      "0.07     code= 31-40 5 single 0\n",
      "0.0     code= 51-60 5 single 0\n",
      "0.25     code= 41-50 5 single 0\n",
      "0.25     code= 20-30 1 married 1\n",
      "0.23     code= 31-40 1 married 1\n",
      "0.27     code= 51-60 1 married 1\n",
      "0.22     code= 41-50 1 married 1\n",
      "0.17     code= 60+ 1 married 1\n",
      "0.28     code= 20-30 2 married 1\n",
      "0.26     code= 31-40 2 married 1\n",
      "0.31     code= 51-60 2 married 1\n",
      "0.26     code= 41-50 2 married 1\n",
      "0.42     code= 60+ 2 married 1\n",
      "0.37     code= 20-30 3 married 1\n",
      "0.28     code= 31-40 3 married 1\n",
      "0.3     code= 51-60 3 married 1\n",
      "0.27     code= 41-50 3 married 1\n",
      "0.28     code= 60+ 3 married 1\n",
      "0.0     code= 20-30 4 married 1\n",
      "0.14     code= 31-40 4 married 1\n",
      "0.33     code= 51-60 4 married 1\n",
      "0.0     code= 41-50 4 married 1\n",
      "0.0     code= 20-30 5 married 1\n",
      "0.04     code= 31-40 5 married 1\n",
      "0.25     code= 51-60 5 married 1\n",
      "0.25     code= 41-50 5 married 1\n",
      "0.0     code= 60+ 5 married 1\n",
      "0.18     code= 20-30 1 single 1\n",
      "0.2     code= 31-40 1 single 1\n",
      "0.18     code= 51-60 1 single 1\n",
      "0.22     code= 41-50 1 single 1\n",
      "0.25     code= 60+ 1 single 1\n",
      "0.26     code= 20-30 2 single 1\n",
      "0.24     code= 31-40 2 single 1\n",
      "0.24     code= 51-60 2 single 1\n",
      "0.26     code= 41-50 2 single 1\n",
      "0.09     code= 60+ 2 single 1\n",
      "0.29     code= 20-30 3 single 1\n",
      "0.24     code= 31-40 3 single 1\n",
      "0.18     code= 51-60 3 single 1\n",
      "0.24     code= 41-50 3 single 1\n",
      "0.18     code= 60+ 3 single 1\n",
      "0.1     code= 20-30 4 single 1\n",
      "0.0     code= 31-40 4 single 1\n",
      "0.0     code= 20-30 5 single 1\n",
      "0.05     code= 31-40 5 single 1\n",
      "0.33     code= 51-60 5 single 1\n",
      "0.0     code= 41-50 5 single 1\n"
     ]
    }
   ],
   "source": [
    "#verify different groups (age+marriage+studies+gender)\n",
    "\n",
    "for g in [0,1]:\n",
    "    for m in ['married','single','others']:\n",
    "        for e in [1,2,3,4,5]:\n",
    "            for a in range_age:\n",
    "                try:\n",
    "                    print (round(\n",
    "                        len(default[(default['Range_age']==a) & (default['MARRIAGE']==m) & (default['EDUCATION']==e) & \n",
    "                                (default['SEX']==g) & (default['default.payment.next.month']==1)]) /\n",
    "                        len(default[(default['Range_age']==a) & (default['MARRIAGE']==m) & (default['EDUCATION']==e) & \n",
    "                                 (default['SEX']==g)]),2), '    code=',a,e,m,g)\n",
    "                except:\n",
    "                    continue"
   ]
  },
  {
   "cell_type": "code",
   "execution_count": 37,
   "metadata": {
    "scrolled": true
   },
   "outputs": [
    {
     "data": {
      "text/html": [
       "<div>\n",
       "<style scoped>\n",
       "    .dataframe tbody tr th:only-of-type {\n",
       "        vertical-align: middle;\n",
       "    }\n",
       "\n",
       "    .dataframe tbody tr th {\n",
       "        vertical-align: top;\n",
       "    }\n",
       "\n",
       "    .dataframe thead th {\n",
       "        text-align: right;\n",
       "    }\n",
       "</style>\n",
       "<table border=\"1\" class=\"dataframe\">\n",
       "  <thead>\n",
       "    <tr style=\"text-align: right;\">\n",
       "      <th></th>\n",
       "      <th>LIMIT_BAL</th>\n",
       "      <th>SEX</th>\n",
       "      <th>EDUCATION</th>\n",
       "      <th>MARRIAGE</th>\n",
       "      <th>AGE</th>\n",
       "      <th>PAY_1</th>\n",
       "      <th>PAY_2</th>\n",
       "      <th>PAY_3</th>\n",
       "      <th>PAY_4</th>\n",
       "      <th>PAY_5</th>\n",
       "      <th>...</th>\n",
       "      <th>BILL_AMT6</th>\n",
       "      <th>PAY_AMT1</th>\n",
       "      <th>PAY_AMT2</th>\n",
       "      <th>PAY_AMT3</th>\n",
       "      <th>PAY_AMT4</th>\n",
       "      <th>PAY_AMT5</th>\n",
       "      <th>PAY_AMT6</th>\n",
       "      <th>default.payment.next.month</th>\n",
       "      <th>Range_age</th>\n",
       "      <th>ORD_AGE</th>\n",
       "    </tr>\n",
       "  </thead>\n",
       "  <tbody>\n",
       "    <tr>\n",
       "      <th>6083</th>\n",
       "      <td>80000.0</td>\n",
       "      <td>0</td>\n",
       "      <td>2</td>\n",
       "      <td>single</td>\n",
       "      <td>64</td>\n",
       "      <td>2</td>\n",
       "      <td>2</td>\n",
       "      <td>0</td>\n",
       "      <td>0</td>\n",
       "      <td>0</td>\n",
       "      <td>...</td>\n",
       "      <td>74138.0</td>\n",
       "      <td>390.0</td>\n",
       "      <td>4000.0</td>\n",
       "      <td>2671.0</td>\n",
       "      <td>4000.0</td>\n",
       "      <td>2670.0</td>\n",
       "      <td>2923.0</td>\n",
       "      <td>1</td>\n",
       "      <td>60+</td>\n",
       "      <td>5</td>\n",
       "    </tr>\n",
       "    <tr>\n",
       "      <th>17743</th>\n",
       "      <td>80000.0</td>\n",
       "      <td>0</td>\n",
       "      <td>2</td>\n",
       "      <td>single</td>\n",
       "      <td>61</td>\n",
       "      <td>1</td>\n",
       "      <td>0</td>\n",
       "      <td>0</td>\n",
       "      <td>0</td>\n",
       "      <td>0</td>\n",
       "      <td>...</td>\n",
       "      <td>0.0</td>\n",
       "      <td>0.0</td>\n",
       "      <td>0.0</td>\n",
       "      <td>0.0</td>\n",
       "      <td>0.0</td>\n",
       "      <td>0.0</td>\n",
       "      <td>0.0</td>\n",
       "      <td>1</td>\n",
       "      <td>60+</td>\n",
       "      <td>5</td>\n",
       "    </tr>\n",
       "  </tbody>\n",
       "</table>\n",
       "<p>2 rows × 26 columns</p>\n",
       "</div>"
      ],
      "text/plain": [
       "       LIMIT_BAL  SEX  EDUCATION MARRIAGE  AGE  PAY_1  PAY_2  PAY_3  PAY_4  \\\n",
       "6083     80000.0    0          2   single   64      2      2      0      0   \n",
       "17743    80000.0    0          2   single   61      1      0      0      0   \n",
       "\n",
       "       PAY_5  ...  BILL_AMT6  PAY_AMT1  PAY_AMT2  PAY_AMT3  PAY_AMT4  \\\n",
       "6083       0  ...    74138.0     390.0    4000.0    2671.0    4000.0   \n",
       "17743      0  ...        0.0       0.0       0.0       0.0       0.0   \n",
       "\n",
       "       PAY_AMT5  PAY_AMT6  default.payment.next.month  Range_age  ORD_AGE  \n",
       "6083     2670.0    2923.0                           1        60+        5  \n",
       "17743       0.0       0.0                           1        60+        5  \n",
       "\n",
       "[2 rows x 26 columns]"
      ]
     },
     "execution_count": 37,
     "metadata": {},
     "output_type": "execute_result"
    }
   ],
   "source": [
    "default[(default['Range_age']=='60+') & (default['MARRIAGE']=='single') & (default['EDUCATION']==2) & (default['SEX']==0)]\n"
   ]
  },
  {
   "cell_type": "code",
   "execution_count": 38,
   "metadata": {},
   "outputs": [
    {
     "name": "stdout",
     "output_type": "stream",
     "text": [
      "0.21     code= 20-30 1 married 0\n",
      "0.18     code= 31-40 1 married 0\n",
      "0.21     code= 51-60 1 married 0\n",
      "0.17     code= 41-50 1 married 0\n",
      "0.27     code= 20-30 2 married 0\n",
      "0.21     code= 31-40 2 married 0\n",
      "0.27     code= 51-60 2 married 0\n",
      "0.23     code= 41-50 2 married 0\n",
      "0.27     code= 20-30 3 married 0\n",
      "0.22     code= 31-40 3 married 0\n",
      "0.24     code= 51-60 3 married 0\n",
      "0.27     code= 41-50 3 married 0\n",
      "0.18     code= 20-30 1 single 0\n",
      "0.17     code= 31-40 1 single 0\n",
      "0.2     code= 41-50 1 single 0\n",
      "0.23     code= 20-30 2 single 0\n",
      "0.17     code= 31-40 2 single 0\n",
      "0.2     code= 41-50 2 single 0\n",
      "0.23     code= 20-30 3 single 0\n",
      "0.17     code= 31-40 3 single 0\n",
      "0.19     code= 51-60 3 single 0\n",
      "0.26     code= 41-50 3 single 0\n",
      "0.23     code= 31-40 1 married 1\n",
      "0.27     code= 51-60 1 married 1\n",
      "0.22     code= 41-50 1 married 1\n",
      "0.28     code= 20-30 2 married 1\n",
      "0.26     code= 31-40 2 married 1\n",
      "0.31     code= 51-60 2 married 1\n",
      "0.26     code= 41-50 2 married 1\n",
      "0.28     code= 31-40 3 married 1\n",
      "0.3     code= 51-60 3 married 1\n",
      "0.27     code= 41-50 3 married 1\n",
      "0.18     code= 20-30 1 single 1\n",
      "0.2     code= 31-40 1 single 1\n",
      "0.22     code= 41-50 1 single 1\n",
      "0.26     code= 20-30 2 single 1\n",
      "0.24     code= 31-40 2 single 1\n",
      "0.26     code= 41-50 2 single 1\n",
      "0.29     code= 20-30 3 single 1\n",
      "0.24     code= 31-40 3 single 1\n",
      "0.24     code= 41-50 3 single 1\n"
     ]
    }
   ],
   "source": [
    "# worse profile\n",
    "for g in [0,1]:\n",
    "    for m in ['married','single','others']:\n",
    "        for e in [1,2,3,4,5]:\n",
    "            for a in range_age:\n",
    "                if len(default[(default['Range_age']==a) & (default['MARRIAGE']==m) & (default['EDUCATION']==e) & \n",
    "                                 (default['SEX']==g)]) > 100:\n",
    "                    try:\n",
    "                        print (round(\n",
    "                            len(default[(default['Range_age']==a) & (default['MARRIAGE']==m) & (default['EDUCATION']==e) & \n",
    "                                (default['SEX']==g) & (default['default.payment.next.month']==1)]) /\n",
    "                            len(default[(default['Range_age']==a) & (default['MARRIAGE']==m) & (default['EDUCATION']==e) & \n",
    "                                 (default['SEX']==g)]),2), '    code=',a,e,m,g)\n",
    "                    except:\n",
    "                        continue"
   ]
  },
  {
   "cell_type": "code",
   "execution_count": 39,
   "metadata": {},
   "outputs": [],
   "source": [
    "# 0.31     code= 51-60 University married male"
   ]
  },
  {
   "cell_type": "code",
   "execution_count": 99,
   "metadata": {
    "scrolled": true
   },
   "outputs": [
    {
     "name": "stdout",
     "output_type": "stream",
     "text": [
      "0.79     code= 20-30 1 married 0\n",
      "0.82     code= 31-40 1 married 0\n",
      "0.79     code= 51-60 1 married 0\n",
      "0.83     code= 41-50 1 married 0\n",
      "0.73     code= 20-30 2 married 0\n",
      "0.79     code= 31-40 2 married 0\n",
      "0.73     code= 51-60 2 married 0\n",
      "0.77     code= 41-50 2 married 0\n",
      "0.73     code= 20-30 3 married 0\n",
      "0.78     code= 31-40 3 married 0\n",
      "0.76     code= 51-60 3 married 0\n",
      "0.73     code= 41-50 3 married 0\n",
      "0.82     code= 20-30 1 single 0\n",
      "0.83     code= 31-40 1 single 0\n",
      "0.8     code= 41-50 1 single 0\n",
      "0.77     code= 20-30 2 single 0\n",
      "0.83     code= 31-40 2 single 0\n",
      "0.8     code= 41-50 2 single 0\n",
      "0.77     code= 20-30 3 single 0\n",
      "0.83     code= 31-40 3 single 0\n",
      "0.81     code= 51-60 3 single 0\n",
      "0.74     code= 41-50 3 single 0\n",
      "0.77     code= 31-40 1 married 1\n",
      "0.73     code= 51-60 1 married 1\n",
      "0.78     code= 41-50 1 married 1\n",
      "0.72     code= 20-30 2 married 1\n",
      "0.74     code= 31-40 2 married 1\n",
      "0.69     code= 51-60 2 married 1\n",
      "0.74     code= 41-50 2 married 1\n",
      "0.72     code= 31-40 3 married 1\n",
      "0.7     code= 51-60 3 married 1\n",
      "0.73     code= 41-50 3 married 1\n",
      "0.82     code= 20-30 1 single 1\n",
      "0.8     code= 31-40 1 single 1\n",
      "0.78     code= 41-50 1 single 1\n",
      "0.74     code= 20-30 2 single 1\n",
      "0.76     code= 31-40 2 single 1\n",
      "0.74     code= 41-50 2 single 1\n",
      "0.71     code= 20-30 3 single 1\n",
      "0.76     code= 31-40 3 single 1\n",
      "0.76     code= 41-50 3 single 1\n"
     ]
    }
   ],
   "source": [
    "for g in [0,1]:\n",
    "    for m in ['married','single','others']:\n",
    "        for e in [1,2,3,4,5]:\n",
    "            for a in range_age:\n",
    "                if len(default[(default['Range_age']==a) & (default['MARRIAGE']==m) & (default['EDUCATION']==e) & \n",
    "                                 (default['SEX']==g)]) > 100:\n",
    "                    try:\n",
    "                        print (round(\n",
    "                            len(default[(default['Range_age']==a) & (default['MARRIAGE']==m) & (default['EDUCATION']==e) & \n",
    "                                (default['SEX']==g) & (default['default.payment.next.month']==0)]) /\n",
    "                            len(default[(default['Range_age']==a) & (default['MARRIAGE']==m) & (default['EDUCATION']==e) & \n",
    "                                 (default['SEX']==g)]),2), '    code=',a,e,m,g)\n",
    "                    except:\n",
    "                        continue"
   ]
  },
  {
   "cell_type": "code",
   "execution_count": 100,
   "metadata": {},
   "outputs": [],
   "source": [
    "# 0.83     code= 31-40 2 single Female\n",
    "# 0.83     code= 31-40 1 single Female"
   ]
  },
  {
   "cell_type": "markdown",
   "metadata": {},
   "source": [
    "## Hypothesis Testing"
   ]
  },
  {
   "cell_type": "code",
   "execution_count": 54,
   "metadata": {
    "collapsed": true
   },
   "outputs": [
    {
     "data": {
      "text/html": [
       "<div>\n",
       "<style scoped>\n",
       "    .dataframe tbody tr th:only-of-type {\n",
       "        vertical-align: middle;\n",
       "    }\n",
       "\n",
       "    .dataframe tbody tr th {\n",
       "        vertical-align: top;\n",
       "    }\n",
       "\n",
       "    .dataframe thead th {\n",
       "        text-align: right;\n",
       "    }\n",
       "</style>\n",
       "<table border=\"1\" class=\"dataframe\">\n",
       "  <thead>\n",
       "    <tr style=\"text-align: right;\">\n",
       "      <th></th>\n",
       "      <th>LIMIT_BAL</th>\n",
       "      <th>SEX</th>\n",
       "      <th>EDUCATION</th>\n",
       "      <th>MARRIAGE</th>\n",
       "      <th>AGE</th>\n",
       "      <th>PAY_1</th>\n",
       "      <th>PAY_2</th>\n",
       "      <th>PAY_3</th>\n",
       "      <th>PAY_4</th>\n",
       "      <th>PAY_5</th>\n",
       "      <th>...</th>\n",
       "      <th>BILL_AMT6</th>\n",
       "      <th>PAY_AMT1</th>\n",
       "      <th>PAY_AMT2</th>\n",
       "      <th>PAY_AMT3</th>\n",
       "      <th>PAY_AMT4</th>\n",
       "      <th>PAY_AMT5</th>\n",
       "      <th>PAY_AMT6</th>\n",
       "      <th>default.payment.next.month</th>\n",
       "      <th>Range_age</th>\n",
       "      <th>ORD_AGE</th>\n",
       "    </tr>\n",
       "  </thead>\n",
       "  <tbody>\n",
       "    <tr>\n",
       "      <th>0</th>\n",
       "      <td>20000.0</td>\n",
       "      <td>0</td>\n",
       "      <td>2</td>\n",
       "      <td>married</td>\n",
       "      <td>24</td>\n",
       "      <td>2</td>\n",
       "      <td>2</td>\n",
       "      <td>0</td>\n",
       "      <td>0</td>\n",
       "      <td>0</td>\n",
       "      <td>...</td>\n",
       "      <td>0.0</td>\n",
       "      <td>0.0</td>\n",
       "      <td>689.0</td>\n",
       "      <td>0.0</td>\n",
       "      <td>0.0</td>\n",
       "      <td>0.0</td>\n",
       "      <td>0.0</td>\n",
       "      <td>1</td>\n",
       "      <td>20-30</td>\n",
       "      <td>1</td>\n",
       "    </tr>\n",
       "    <tr>\n",
       "      <th>1</th>\n",
       "      <td>120000.0</td>\n",
       "      <td>0</td>\n",
       "      <td>2</td>\n",
       "      <td>single</td>\n",
       "      <td>26</td>\n",
       "      <td>0</td>\n",
       "      <td>2</td>\n",
       "      <td>0</td>\n",
       "      <td>0</td>\n",
       "      <td>0</td>\n",
       "      <td>...</td>\n",
       "      <td>3261.0</td>\n",
       "      <td>0.0</td>\n",
       "      <td>1000.0</td>\n",
       "      <td>1000.0</td>\n",
       "      <td>1000.0</td>\n",
       "      <td>0.0</td>\n",
       "      <td>2000.0</td>\n",
       "      <td>1</td>\n",
       "      <td>20-30</td>\n",
       "      <td>1</td>\n",
       "    </tr>\n",
       "    <tr>\n",
       "      <th>2</th>\n",
       "      <td>90000.0</td>\n",
       "      <td>0</td>\n",
       "      <td>2</td>\n",
       "      <td>single</td>\n",
       "      <td>34</td>\n",
       "      <td>0</td>\n",
       "      <td>0</td>\n",
       "      <td>0</td>\n",
       "      <td>0</td>\n",
       "      <td>0</td>\n",
       "      <td>...</td>\n",
       "      <td>15549.0</td>\n",
       "      <td>1518.0</td>\n",
       "      <td>1500.0</td>\n",
       "      <td>1000.0</td>\n",
       "      <td>1000.0</td>\n",
       "      <td>1000.0</td>\n",
       "      <td>5000.0</td>\n",
       "      <td>0</td>\n",
       "      <td>31-40</td>\n",
       "      <td>2</td>\n",
       "    </tr>\n",
       "    <tr>\n",
       "      <th>3</th>\n",
       "      <td>50000.0</td>\n",
       "      <td>0</td>\n",
       "      <td>2</td>\n",
       "      <td>married</td>\n",
       "      <td>37</td>\n",
       "      <td>0</td>\n",
       "      <td>0</td>\n",
       "      <td>0</td>\n",
       "      <td>0</td>\n",
       "      <td>0</td>\n",
       "      <td>...</td>\n",
       "      <td>29547.0</td>\n",
       "      <td>2000.0</td>\n",
       "      <td>2019.0</td>\n",
       "      <td>1200.0</td>\n",
       "      <td>1100.0</td>\n",
       "      <td>1069.0</td>\n",
       "      <td>1000.0</td>\n",
       "      <td>0</td>\n",
       "      <td>31-40</td>\n",
       "      <td>2</td>\n",
       "    </tr>\n",
       "    <tr>\n",
       "      <th>4</th>\n",
       "      <td>50000.0</td>\n",
       "      <td>1</td>\n",
       "      <td>2</td>\n",
       "      <td>married</td>\n",
       "      <td>57</td>\n",
       "      <td>0</td>\n",
       "      <td>0</td>\n",
       "      <td>0</td>\n",
       "      <td>0</td>\n",
       "      <td>0</td>\n",
       "      <td>...</td>\n",
       "      <td>19131.0</td>\n",
       "      <td>2000.0</td>\n",
       "      <td>36681.0</td>\n",
       "      <td>10000.0</td>\n",
       "      <td>9000.0</td>\n",
       "      <td>689.0</td>\n",
       "      <td>679.0</td>\n",
       "      <td>0</td>\n",
       "      <td>51-60</td>\n",
       "      <td>4</td>\n",
       "    </tr>\n",
       "    <tr>\n",
       "      <th>...</th>\n",
       "      <td>...</td>\n",
       "      <td>...</td>\n",
       "      <td>...</td>\n",
       "      <td>...</td>\n",
       "      <td>...</td>\n",
       "      <td>...</td>\n",
       "      <td>...</td>\n",
       "      <td>...</td>\n",
       "      <td>...</td>\n",
       "      <td>...</td>\n",
       "      <td>...</td>\n",
       "      <td>...</td>\n",
       "      <td>...</td>\n",
       "      <td>...</td>\n",
       "      <td>...</td>\n",
       "      <td>...</td>\n",
       "      <td>...</td>\n",
       "      <td>...</td>\n",
       "      <td>...</td>\n",
       "      <td>...</td>\n",
       "      <td>...</td>\n",
       "    </tr>\n",
       "    <tr>\n",
       "      <th>29991</th>\n",
       "      <td>210000.0</td>\n",
       "      <td>1</td>\n",
       "      <td>2</td>\n",
       "      <td>married</td>\n",
       "      <td>34</td>\n",
       "      <td>3</td>\n",
       "      <td>2</td>\n",
       "      <td>2</td>\n",
       "      <td>2</td>\n",
       "      <td>2</td>\n",
       "      <td>...</td>\n",
       "      <td>2500.0</td>\n",
       "      <td>0.0</td>\n",
       "      <td>0.0</td>\n",
       "      <td>0.0</td>\n",
       "      <td>0.0</td>\n",
       "      <td>0.0</td>\n",
       "      <td>0.0</td>\n",
       "      <td>1</td>\n",
       "      <td>31-40</td>\n",
       "      <td>2</td>\n",
       "    </tr>\n",
       "    <tr>\n",
       "      <th>29993</th>\n",
       "      <td>100000.0</td>\n",
       "      <td>1</td>\n",
       "      <td>1</td>\n",
       "      <td>single</td>\n",
       "      <td>38</td>\n",
       "      <td>0</td>\n",
       "      <td>0</td>\n",
       "      <td>0</td>\n",
       "      <td>0</td>\n",
       "      <td>0</td>\n",
       "      <td>...</td>\n",
       "      <td>55004.0</td>\n",
       "      <td>2000.0</td>\n",
       "      <td>111784.0</td>\n",
       "      <td>4000.0</td>\n",
       "      <td>3000.0</td>\n",
       "      <td>2000.0</td>\n",
       "      <td>2000.0</td>\n",
       "      <td>0</td>\n",
       "      <td>31-40</td>\n",
       "      <td>2</td>\n",
       "    </tr>\n",
       "    <tr>\n",
       "      <th>29994</th>\n",
       "      <td>80000.0</td>\n",
       "      <td>1</td>\n",
       "      <td>2</td>\n",
       "      <td>single</td>\n",
       "      <td>34</td>\n",
       "      <td>2</td>\n",
       "      <td>2</td>\n",
       "      <td>2</td>\n",
       "      <td>2</td>\n",
       "      <td>2</td>\n",
       "      <td>...</td>\n",
       "      <td>81158.0</td>\n",
       "      <td>7000.0</td>\n",
       "      <td>3500.0</td>\n",
       "      <td>0.0</td>\n",
       "      <td>7000.0</td>\n",
       "      <td>0.0</td>\n",
       "      <td>4000.0</td>\n",
       "      <td>1</td>\n",
       "      <td>31-40</td>\n",
       "      <td>2</td>\n",
       "    </tr>\n",
       "    <tr>\n",
       "      <th>29997</th>\n",
       "      <td>30000.0</td>\n",
       "      <td>1</td>\n",
       "      <td>2</td>\n",
       "      <td>single</td>\n",
       "      <td>37</td>\n",
       "      <td>4</td>\n",
       "      <td>3</td>\n",
       "      <td>2</td>\n",
       "      <td>0</td>\n",
       "      <td>0</td>\n",
       "      <td>...</td>\n",
       "      <td>19357.0</td>\n",
       "      <td>0.0</td>\n",
       "      <td>0.0</td>\n",
       "      <td>22000.0</td>\n",
       "      <td>4200.0</td>\n",
       "      <td>2000.0</td>\n",
       "      <td>3100.0</td>\n",
       "      <td>1</td>\n",
       "      <td>31-40</td>\n",
       "      <td>2</td>\n",
       "    </tr>\n",
       "    <tr>\n",
       "      <th>29999</th>\n",
       "      <td>50000.0</td>\n",
       "      <td>1</td>\n",
       "      <td>2</td>\n",
       "      <td>married</td>\n",
       "      <td>46</td>\n",
       "      <td>0</td>\n",
       "      <td>0</td>\n",
       "      <td>0</td>\n",
       "      <td>0</td>\n",
       "      <td>0</td>\n",
       "      <td>...</td>\n",
       "      <td>15313.0</td>\n",
       "      <td>2078.0</td>\n",
       "      <td>1800.0</td>\n",
       "      <td>1430.0</td>\n",
       "      <td>1000.0</td>\n",
       "      <td>1000.0</td>\n",
       "      <td>1000.0</td>\n",
       "      <td>1</td>\n",
       "      <td>41-50</td>\n",
       "      <td>3</td>\n",
       "    </tr>\n",
       "  </tbody>\n",
       "</table>\n",
       "<p>24615 rows × 26 columns</p>\n",
       "</div>"
      ],
      "text/plain": [
       "       LIMIT_BAL  SEX  EDUCATION MARRIAGE  AGE  PAY_1  PAY_2  PAY_3  PAY_4  \\\n",
       "0        20000.0    0          2  married   24      2      2      0      0   \n",
       "1       120000.0    0          2   single   26      0      2      0      0   \n",
       "2        90000.0    0          2   single   34      0      0      0      0   \n",
       "3        50000.0    0          2  married   37      0      0      0      0   \n",
       "4        50000.0    1          2  married   57      0      0      0      0   \n",
       "...          ...  ...        ...      ...  ...    ...    ...    ...    ...   \n",
       "29991   210000.0    1          2  married   34      3      2      2      2   \n",
       "29993   100000.0    1          1   single   38      0      0      0      0   \n",
       "29994    80000.0    1          2   single   34      2      2      2      2   \n",
       "29997    30000.0    1          2   single   37      4      3      2      0   \n",
       "29999    50000.0    1          2  married   46      0      0      0      0   \n",
       "\n",
       "       PAY_5  ...  BILL_AMT6  PAY_AMT1  PAY_AMT2  PAY_AMT3  PAY_AMT4  \\\n",
       "0          0  ...        0.0       0.0     689.0       0.0       0.0   \n",
       "1          0  ...     3261.0       0.0    1000.0    1000.0    1000.0   \n",
       "2          0  ...    15549.0    1518.0    1500.0    1000.0    1000.0   \n",
       "3          0  ...    29547.0    2000.0    2019.0    1200.0    1100.0   \n",
       "4          0  ...    19131.0    2000.0   36681.0   10000.0    9000.0   \n",
       "...      ...  ...        ...       ...       ...       ...       ...   \n",
       "29991      2  ...     2500.0       0.0       0.0       0.0       0.0   \n",
       "29993      0  ...    55004.0    2000.0  111784.0    4000.0    3000.0   \n",
       "29994      2  ...    81158.0    7000.0    3500.0       0.0    7000.0   \n",
       "29997      0  ...    19357.0       0.0       0.0   22000.0    4200.0   \n",
       "29999      0  ...    15313.0    2078.0    1800.0    1430.0    1000.0   \n",
       "\n",
       "       PAY_AMT5  PAY_AMT6  default.payment.next.month  Range_age  ORD_AGE  \n",
       "0           0.0       0.0                           1      20-30        1  \n",
       "1           0.0    2000.0                           1      20-30        1  \n",
       "2        1000.0    5000.0                           0      31-40        2  \n",
       "3        1069.0    1000.0                           0      31-40        2  \n",
       "4         689.0     679.0                           0      51-60        4  \n",
       "...         ...       ...                         ...        ...      ...  \n",
       "29991       0.0       0.0                           1      31-40        2  \n",
       "29993    2000.0    2000.0                           0      31-40        2  \n",
       "29994       0.0    4000.0                           1      31-40        2  \n",
       "29997    2000.0    3100.0                           1      31-40        2  \n",
       "29999    1000.0    1000.0                           1      41-50        3  \n",
       "\n",
       "[24615 rows x 26 columns]"
      ]
     },
     "execution_count": 54,
     "metadata": {},
     "output_type": "execute_result"
    }
   ],
   "source": [
    "default[((default['EDUCATION']==1) | (default['EDUCATION']==2))]"
   ]
  },
  {
   "cell_type": "code",
   "execution_count": 84,
   "metadata": {},
   "outputs": [
    {
     "name": "stdout",
     "output_type": "stream",
     "text": [
      "0.2179971562055657 0.2212\n"
     ]
    }
   ],
   "source": [
    "# Education levels\n",
    "\n",
    "pro_sup_ed = (len(default[(((default['EDUCATION']==1) | (default['EDUCATION']==2)) & (default['default.payment.next.month']==1))]))/ (len(default[((default['EDUCATION']==1) | (default['EDUCATION']==2))]))\n",
    "pro_inf_ed = (len(default[(((default['EDUCATION']!=1) | (default['EDUCATION']!=2)) & (default['default.payment.next.month']==1))]))/ (len(default[((default['EDUCATION']!=1) | (default['EDUCATION']!=2))]))\n",
    "print(pro_sup_ed,pro_inf_ed)"
   ]
  },
  {
   "cell_type": "code",
   "execution_count": 85,
   "metadata": {},
   "outputs": [
    {
     "data": {
      "text/plain": [
       "0.3684379574004112"
      ]
     },
     "execution_count": 85,
     "metadata": {},
     "output_type": "execute_result"
    }
   ],
   "source": [
    "# Education levels\n",
    "   \n",
    "sample_default_ed, sample_size_ed = (len(default[(((default['EDUCATION']==1) | (default['EDUCATION']==2)) & (default['default.payment.next.month']==1))])), (len(default[((default['EDUCATION']==1) | (default['EDUCATION']==2))]))\n",
    "sample_default_ned, sample_size_ned = (len(default[(((default['EDUCATION']!=1) | (default['EDUCATION']!=2)) & (default['default.payment.next.month']==1))])), (len(default[((default['EDUCATION']!=1) | (default['EDUCATION']!=2))]))\n",
    "\n",
    "defaults_ed = np.array([sample_default_ed, sample_default_ned])\n",
    "samples_ed = np.array([sample_size_ed, sample_size_ned])\n",
    "\n",
    "stat, pvalue = proportions_ztest(defaults_ed,samples_ed)\n",
    "pvalue"
   ]
  },
  {
   "cell_type": "code",
   "execution_count": 98,
   "metadata": {},
   "outputs": [
    {
     "name": "stdout",
     "output_type": "stream",
     "text": [
      "0.2416722745625841 0.20776280918727916\n"
     ]
    }
   ],
   "source": [
    "def_male = (len(default[((default['SEX']==1) & (default['default.payment.next.month']==1))]))/ (len(default[((default['SEX']==1))]))\n",
    "def_female = (len(default[((default['SEX']!=1) & (default['default.payment.next.month']==1))]))/ (len(default[((default['SEX']!=1))]))\n",
    "print(def_male, def_female)"
   ]
  },
  {
   "cell_type": "code",
   "execution_count": 72,
   "metadata": {},
   "outputs": [
    {
     "data": {
      "text/plain": [
       "4.472804335814144e-12"
      ]
     },
     "execution_count": 72,
     "metadata": {},
     "output_type": "execute_result"
    }
   ],
   "source": [
    "# Gender - 'Female = 0'\n",
    "\n",
    "sample_default_male, sample_size_male = (len(default[((default['SEX']==1) & (default['default.payment.next.month']==1))])), (len(default[((default['SEX']==1))]))\n",
    "sample_default_female, sample_size_female = (len(default[((default['SEX']!=1) & (default['default.payment.next.month']==1))])), (len(default[((default['SEX']!=1))]))\n",
    "\n",
    "defaults_g = np.array([sample_default_male, sample_default_female])\n",
    "samples_g = np.array([sample_size_male, sample_size_female])\n",
    "\n",
    "stat, pvalue = proportions_ztest(defaults_g,samples_g)\n",
    "pvalue"
   ]
  },
  {
   "cell_type": "code",
   "execution_count": 95,
   "metadata": {},
   "outputs": [
    {
     "name": "stdout",
     "output_type": "stream",
     "text": [
      "0.28553744584278934 0.15730795377294357\n"
     ]
    }
   ],
   "source": [
    "# Credit limit\n",
    "inf = (len(default[((default['LIMIT_BAL']<140000) & (default['default.payment.next.month']==1))])) / (len(default[((default['LIMIT_BAL']<140000))]))\n",
    "sup = (len(default[((default['LIMIT_BAL']>140000) & (default['default.payment.next.month']==1))])) / (len(default[((default['LIMIT_BAL']>140000))]))\n",
    "\n",
    "print(inf, sup)\n",
    "                                                                                                  "
   ]
  },
  {
   "cell_type": "code",
   "execution_count": 96,
   "metadata": {},
   "outputs": [
    {
     "data": {
      "text/plain": [
       "7.023005373133739e-154"
      ]
     },
     "execution_count": 96,
     "metadata": {},
     "output_type": "execute_result"
    }
   ],
   "source": [
    "# Credit limit\n",
    "\n",
    "sample_default_inf, sample_size_inf = (len(default[((default['LIMIT_BAL']<140000) & (default['default.payment.next.month']==1))])), (len(default[((default['LIMIT_BAL']<140000))]))\n",
    "sample_default_sup, sample_size_sup = (len(default[((default['LIMIT_BAL']>140000) & (default['default.payment.next.month']==1))])), (len(default[((default['LIMIT_BAL']>140000))]))\n",
    "\n",
    "defaults_cl = np.array([sample_default_inf, sample_default_sup])\n",
    "samples_cl = np.array([sample_size_inf, sample_size_sup])\n",
    "\n",
    "stat, pvalue = proportions_ztest(defaults_cl,samples_cl)\n",
    "pvalue"
   ]
  },
  {
   "cell_type": "code",
   "execution_count": null,
   "metadata": {},
   "outputs": [],
   "source": [
    "# sample_success_med, sample_size_med = (med_shared, 100)\n",
    "# sample_success_sca, sample_size_sca = (sca_shared, 100)\n",
    "# successes = np.array([sample_success_med, sample_success_sca])\n",
    "# samples = np.array([sample_size_med, sample_size_sca])\n",
    "# stat, pvalue = proportions_ztest(successes,samples)\n",
    "# pvalue"
   ]
  }
 ],
 "metadata": {
  "kernelspec": {
   "display_name": "Python 3",
   "language": "python",
   "name": "python3"
  },
  "language_info": {
   "codemirror_mode": {
    "name": "ipython",
    "version": 3
   },
   "file_extension": ".py",
   "mimetype": "text/x-python",
   "name": "python",
   "nbconvert_exporter": "python",
   "pygments_lexer": "ipython3",
   "version": "3.7.9"
  },
  "toc": {
   "base_numbering": 1,
   "nav_menu": {},
   "number_sections": true,
   "sideBar": true,
   "skip_h1_title": false,
   "title_cell": "Table of Contents",
   "title_sidebar": "Contents",
   "toc_cell": false,
   "toc_position": {},
   "toc_section_display": true,
   "toc_window_display": false
  }
 },
 "nbformat": 4,
 "nbformat_minor": 4
}
